{
  "cells": [
    {
      "cell_type": "code",
      "execution_count": 2,
      "metadata": {
        "colab": {
          "base_uri": "https://localhost:8080/",
          "height": 385
        },
        "id": "QoSwEg4WglsL",
        "outputId": "af8c736e-4fe4-4cbf-9169-7893f1fec65e"
      },
      "outputs": [
        {
          "name": "stdout",
          "output_type": "stream",
          "text": [
            "WARNING:tensorflow:From c:\\Users\\LENOVO\\.conda\\envs\\TA2\\Lib\\site-packages\\keras\\src\\losses.py:2976: The name tf.losses.sparse_softmax_cross_entropy is deprecated. Please use tf.compat.v1.losses.sparse_softmax_cross_entropy instead.\n",
            "\n"
          ]
        },
        {
          "data": {
            "text/plain": [
              "<Figure size 640x480 with 0 Axes>"
            ]
          },
          "metadata": {},
          "output_type": "display_data"
        }
      ],
      "source": [
        "import matplotlib.pyplot as plt\n",
        "import pandas as pd\n",
        "import seaborn as sns\n",
        "import statistics as stats\n",
        "from tensorflow.keras.layers import LSTM,Dense, Dropout, SpatialDropout1D\n",
        "from tensorflow.keras.layers import Embedding\n",
        "from tensorflow.keras.preprocessing.sequence import pad_sequences\n",
        "from tensorflow.keras.preprocessing.text import Tokenizer\n",
        "from tensorflow.keras.models import Sequential\n",
        "from tensorflow.keras.utils import plot_model\n",
        "from sklearn.preprocessing import LabelEncoder\n",
        "from tensorflow.keras.utils import to_categorical\n",
        "from tensorflow.keras import losses\n",
        "import numpy as np\n",
        "from tensorflow.keras.layers import Conv1D, MaxPooling1D, GlobalMaxPooling1D\n",
        "import tensorflow as tf\n",
        "import matplotlib as mpl\n",
        "from cycler import cycler\n",
        "import re\n",
        "import emoji\n",
        "mpl.rcParams['lines.linewidth'] = 2\n",
        "mpl.rcParams['lines.linestyle'] = '--'\n",
        "import re\n",
        "import string\n",
        "import nltk\n",
        "sns.despine()\n",
        "plt.style.use(\"fivethirtyeight\")\n",
        "sns.set_style(\"darkgrid\")\n",
        "\n",
        "import emoji\n",
        "import pandas as pd\n",
        "import re\n",
        "import string\n",
        "import nltk\n",
        "from nltk.corpus import stopwords\n"
      ]
    },
    {
      "cell_type": "markdown",
      "metadata": {
        "id": "0-5LALD_glsS"
      },
      "source": [
        "**1. Data Exploration & Preprocessing**"
      ]
    },
    {
      "cell_type": "code",
      "execution_count": 4,
      "metadata": {},
      "outputs": [
        {
          "name": "stdout",
          "output_type": "stream",
          "text": [
            "      entry_id                                            text  \\\n",
            "0            0                       I would love to 🔪 some 👳🏾   \n",
            "1            2                       I would love to 🔪 some 👨🏿   \n",
            "2            3                          I would love to 🔪some🦊   \n",
            "3            5                                    👳🏽 make me 🤢   \n",
            "4            6         literally all 👨🏿 men act like gentlemen   \n",
            "...        ...                                             ...   \n",
            "4752      5551                What crap do you think this is 🈺   \n",
            "4753       785  can you imagine how they can eat 🍅 soup...yuk!   \n",
            "4754      4416                         🎌spreading the covid-19   \n",
            "4755      5883                      my dad said I hate pakis 😧   \n",
            "4756      2253                              women are actual 👼   \n",
            "\n",
            "                     type                        target  round.base round.set  \\\n",
            "0     threateninglanguage  ['asi.south', 'arab', 'mus']           5        5a   \n",
            "1     threateninglanguage                       ['bla']           5        5a   \n",
            "2                    none                      ['none']           5        5b   \n",
            "3              derogation          ['mus', 'asi.south']           5        5b   \n",
            "4                    none                      ['none']           5        5b   \n",
            "...                   ...                           ...         ...       ...   \n",
            "4752            animosity                  ['asi.east']           7        7a   \n",
            "4753                 none                      ['none']           5        5b   \n",
            "4754           derogation                  ['asi.east']           7        7a   \n",
            "4755                 none                      ['none']           7        7a   \n",
            "4756                 none                      ['none']           6        6a   \n",
            "\n",
            "               set  split  label_gold  \\\n",
            "0         original  train           1   \n",
            "1         original  train           1   \n",
            "2     perturbation  train           0   \n",
            "3     perturbation  train           1   \n",
            "4     perturbation  train           0   \n",
            "...            ...    ...         ...   \n",
            "4752      original    dev           1   \n",
            "4753  perturbation    dev           0   \n",
            "4754      original    dev           1   \n",
            "4755      original    dev           0   \n",
            "4756      original    dev           0   \n",
            "\n",
            "                                        matched_text  matched_id  \n",
            "0                         I would love to 👏🏽 some 👳🏾           1  \n",
            "1                             I would love to 🔪some🦊           3  \n",
            "2                          I would love to 🔪 some 👨🏿           2  \n",
            "3                                        🐀 make me 🤢           4  \n",
            "4            literally all 👨🏿 men act like hooligans           7  \n",
            "...                                              ...         ...  \n",
            "4752               What crap do you think this is 🍍🍕        5550  \n",
            "4753  can you imagine how they can eat 🦇 soup...yuk!         784  \n",
            "4754                         😷spreading the covid-19        4417  \n",
            "4755                      my dad said I hate pakis ✅        5882  \n",
            "4756                              women are actual 🤡        2252  \n",
            "\n",
            "[4757 rows x 11 columns]\n"
          ]
        }
      ],
      "source": [
        "# Baca dan tampilkan data\n",
        "df = pd.read_csv('train1.csv')\n",
        "\n",
        "\n",
        "print(df)"
      ]
    },
    {
      "cell_type": "markdown",
      "metadata": {},
      "source": [
        "data cleanng"
      ]
    },
    {
      "cell_type": "code",
      "execution_count": null,
      "metadata": {},
      "outputs": [
        {
          "name": "stdout",
          "output_type": "stream",
          "text": [
            "entry_id        0\n",
            "text            0\n",
            "type            0\n",
            "target          0\n",
            "round.base      0\n",
            "round.set       0\n",
            "set             0\n",
            "split           0\n",
            "label_gold      0\n",
            "matched_text    0\n",
            "matched_id      0\n",
            "dtype: int64\n",
            "      entry_id                                               text  type  \\\n",
            "4736      3961  We know who to blame for the lack of 🐬🐋 *cough...  none   \n",
            "\n",
            "        target  round.base round.set           set  split  label_gold  \\\n",
            "4736  ['none']           6        6b  perturbation  train           0   \n",
            "\n",
            "                                           matched_text  matched_id  \n",
            "4736  We know who to blame for the lack of 🐬🐋 *cough...        3960  \n"
          ]
        }
      ],
      "source": [
        "missing_values = df.isnull().sum()\n",
        "print(missing_values)\n",
        "\n",
        "duplicate_rows = df[df.duplicated()]\n",
        "print(duplicate_rows)"
      ]
    },
    {
      "cell_type": "code",
      "execution_count": null,
      "metadata": {},
      "outputs": [
        {
          "name": "stdout",
          "output_type": "stream",
          "text": [
            "     entry_id                                               text  \\\n",
            "0           1                         I would love to 👏🏽 some 👳🏾   \n",
            "1           8     all women are interested in is 💸💸💸 - incorrect   \n",
            "2          17                       you cunts are 🅿️r🅾️ 👩‍❤️‍💋‍👩   \n",
            "3          25                                        🚯means no 💩   \n",
            "4          30                                     rah can u 😥not   \n",
            "..        ...                                                ...   \n",
            "588      5862  we need way more 💂‍♂️👮 at the border to stop t...   \n",
            "589      5869  we need👷‍♂️👷 to build houses for the immigrant...   \n",
            "590      5888                               you are hispanic? 🤨🤧   \n",
            "591      5895  I speak to my family and tell them I hate gays...   \n",
            "592      5912                       just let the refugees in 😡😡😡   \n",
            "\n",
            "                     type      target  round.base round.set           set  \\\n",
            "0                    none    ['none']           5        5b  perturbation   \n",
            "1                    none    ['none']           5        5a      original   \n",
            "2              derogation  ['gaywom']           5        5b  perturbation   \n",
            "3                    none    ['none']           5        5b  perturbation   \n",
            "4                    none    ['none']           5        5a      original   \n",
            "..                    ...         ...         ...       ...           ...   \n",
            "588  dehumanizinglanguage   ['immig']           7        7a      original   \n",
            "589            derogation   ['immig']           7        7a      original   \n",
            "590             animosity    ['hisp']           7        7a      original   \n",
            "591                  none    ['none']           7        7a      original   \n",
            "592                  none    ['none']           7        7a      original   \n",
            "\n",
            "    split  label_gold                                       matched_text  \\\n",
            "0    test           0                          I would love to 🔪 some 👳🏾   \n",
            "1    test           0       all women are interested in is 💸💸💸 - correct   \n",
            "2    test           1                                    you cunts are 🚮   \n",
            "3    test           0                                        🚯means no ♿   \n",
            "4    test           0                      rah can u 😥not like all 👧🏻 do   \n",
            "..    ...         ...                                                ...   \n",
            "588  test           1  we need way more 💂‍♂️👮 at the border to stop t...   \n",
            "589  test           1  we need👷‍♂️👷 to build houses for the immigrant...   \n",
            "590  test           1                               you are infected? 🤨🤧   \n",
            "591  test           0  I speak to my family and tell them I hate gays...   \n",
            "592  test           0                     dont let the rapefugees in 😡😡😡   \n",
            "\n",
            "     matched_id  \n",
            "0             0  \n",
            "1             9  \n",
            "2            16  \n",
            "3            24  \n",
            "4            31  \n",
            "..          ...  \n",
            "588        5863  \n",
            "589        5868  \n",
            "590        5889  \n",
            "591        5894  \n",
            "592        5913  \n",
            "\n",
            "[593 rows x 11 columns]\n"
          ]
        }
      ],
      "source": [
        "# Baca dan tampilkan data\n",
        "df_test = pd.read_csv('test1.csv')\n",
        "\n",
        "\n",
        "print(df_test)"
      ]
    },
    {
      "cell_type": "code",
      "execution_count": null,
      "metadata": {},
      "outputs": [
        {
          "name": "stdout",
          "output_type": "stream",
          "text": [
            "     entry_id                                               text        type  \\\n",
            "0           4                                        🐀 make me 🤢        none   \n",
            "1           9       all women are interested in is 💸💸💸 - correct  derogation   \n",
            "2          12                             my 🔌hates black people        none   \n",
            "3          16                                    you cunts are 🚮        none   \n",
            "4          32                                           😴shurrrp        none   \n",
            "..        ...                                                ...         ...   \n",
            "586      5864  cant believe every handman on checkatrade is 😡???        none   \n",
            "587      5874  \"I was born with a penis but I have always bee...        none   \n",
            "588      5883                         my dad said I hate pakis 😧        none   \n",
            "589      5884                        my dad he hates maccies 🤣🤣🤣        none   \n",
            "590      5896  I went to the shop and called it a Paki shop, ...   animosity   \n",
            "\n",
            "                target  round.base round.set           set split  label_gold  \\\n",
            "0             ['none']           5        5a      original   dev           0   \n",
            "1              ['wom']           5        5b  perturbation   dev           1   \n",
            "2             ['none']           5        5a      original   dev           0   \n",
            "3             ['none']           5        5a      original   dev           0   \n",
            "4             ['none']           5        5a      original   dev           0   \n",
            "..                 ...         ...       ...           ...   ...         ...   \n",
            "586           ['none']           7        7b  perturbation   dev           0   \n",
            "587           ['none']           7        7b  perturbation   dev           0   \n",
            "588           ['none']           7        7a      original   dev           0   \n",
            "589           ['none']           7        7b  perturbation   dev           0   \n",
            "590  ['asi.south.pak']           7        7b  perturbation   dev           1   \n",
            "\n",
            "                                          matched_text  matched_id  \n",
            "0                                         👳🏽 make me 🤢           5  \n",
            "1       all women are interested in is 💸💸💸 - incorrect           8  \n",
            "2                               my 👀 hate black people          13  \n",
            "3                         you cunts are 🅿️r🅾️ 👩‍❤️‍💋‍👩          17  \n",
            "4                                     😴 'black rights'          33  \n",
            "..                                                 ...         ...  \n",
            "586  cant believe every handman on checkatrade is 🇵...        5865  \n",
            "587  \"I was born with a penis but I have always bee...        5875  \n",
            "588                         my dad said I hate pakis ✅        5882  \n",
            "589                          my dad he hates pakis 🤣🤣🤣        5885  \n",
            "590  I went to the shop and called it a Paki shop, ...        5897  \n",
            "\n",
            "[591 rows x 11 columns]\n"
          ]
        }
      ],
      "source": [
        "# Baca dan tampilkan data\n",
        "df_validation = pd.read_csv('C:/tasi23234105/validation.csv')\n",
        "\n",
        "\n",
        "print(df_validation)"
      ]
    },
    {
      "cell_type": "code",
      "execution_count": null,
      "metadata": {
        "colab": {
          "base_uri": "https://localhost:8080/",
          "height": 424
        },
        "id": "CrF1VoQjglsW",
        "outputId": "a0c2b280-933f-4a7c-d514-1ead3b8a84ce"
      },
      "outputs": [
        {
          "data": {
            "text/html": [
              "<div>\n",
              "<style scoped>\n",
              "    .dataframe tbody tr th:only-of-type {\n",
              "        vertical-align: middle;\n",
              "    }\n",
              "\n",
              "    .dataframe tbody tr th {\n",
              "        vertical-align: top;\n",
              "    }\n",
              "\n",
              "    .dataframe thead th {\n",
              "        text-align: right;\n",
              "    }\n",
              "</style>\n",
              "<table border=\"1\" class=\"dataframe\">\n",
              "  <thead>\n",
              "    <tr style=\"text-align: right;\">\n",
              "      <th></th>\n",
              "      <th>text</th>\n",
              "      <th>label_gold</th>\n",
              "    </tr>\n",
              "  </thead>\n",
              "  <tbody>\n",
              "    <tr>\n",
              "      <th>0</th>\n",
              "      <td>I would love to 🔪 some 👳🏾</td>\n",
              "      <td>1</td>\n",
              "    </tr>\n",
              "    <tr>\n",
              "      <th>1</th>\n",
              "      <td>I would love to 🔪 some 👨🏿</td>\n",
              "      <td>1</td>\n",
              "    </tr>\n",
              "    <tr>\n",
              "      <th>2</th>\n",
              "      <td>I would love to 🔪some🦊</td>\n",
              "      <td>0</td>\n",
              "    </tr>\n",
              "    <tr>\n",
              "      <th>3</th>\n",
              "      <td>👳🏽 make me 🤢</td>\n",
              "      <td>1</td>\n",
              "    </tr>\n",
              "    <tr>\n",
              "      <th>4</th>\n",
              "      <td>literally all 👨🏿 men act like gentlemen</td>\n",
              "      <td>0</td>\n",
              "    </tr>\n",
              "    <tr>\n",
              "      <th>...</th>\n",
              "      <td>...</td>\n",
              "      <td>...</td>\n",
              "    </tr>\n",
              "    <tr>\n",
              "      <th>4752</th>\n",
              "      <td>What crap do you think this is 🈺</td>\n",
              "      <td>1</td>\n",
              "    </tr>\n",
              "    <tr>\n",
              "      <th>4753</th>\n",
              "      <td>can you imagine how they can eat 🍅 soup...yuk!</td>\n",
              "      <td>0</td>\n",
              "    </tr>\n",
              "    <tr>\n",
              "      <th>4754</th>\n",
              "      <td>🎌spreading the covid-19</td>\n",
              "      <td>1</td>\n",
              "    </tr>\n",
              "    <tr>\n",
              "      <th>4755</th>\n",
              "      <td>my dad said I hate pakis 😧</td>\n",
              "      <td>0</td>\n",
              "    </tr>\n",
              "    <tr>\n",
              "      <th>4756</th>\n",
              "      <td>women are actual 👼</td>\n",
              "      <td>0</td>\n",
              "    </tr>\n",
              "  </tbody>\n",
              "</table>\n",
              "<p>4757 rows × 2 columns</p>\n",
              "</div>"
            ],
            "text/plain": [
              "                                                text  label_gold\n",
              "0                          I would love to 🔪 some 👳🏾           1\n",
              "1                          I would love to 🔪 some 👨🏿           1\n",
              "2                             I would love to 🔪some🦊           0\n",
              "3                                       👳🏽 make me 🤢           1\n",
              "4            literally all 👨🏿 men act like gentlemen           0\n",
              "...                                              ...         ...\n",
              "4752                What crap do you think this is 🈺           1\n",
              "4753  can you imagine how they can eat 🍅 soup...yuk!           0\n",
              "4754                         🎌spreading the covid-19           1\n",
              "4755                      my dad said I hate pakis 😧           0\n",
              "4756                              women are actual 👼           0\n",
              "\n",
              "[4757 rows x 2 columns]"
            ]
          },
          "execution_count": 6,
          "metadata": {},
          "output_type": "execute_result"
        }
      ],
      "source": [
        "# Drop kolom yang ditentukan\n",
        "df_dropped = df.drop(['entry_id', 'type', 'target', 'round.base', 'round.set', 'set', 'split', 'matched_text', 'matched_id'], axis=1)\n",
        "\n",
        "# Menyimpan DataFrame yang sudah dijatuhkan kolomnya ke file CSV\n",
        "csv_file_path = 'train.csv'\n",
        "df_dropped.to_csv(csv_file_path, index=False)"
      ]
    },
    {
      "cell_type": "code",
      "execution_count": null,
      "metadata": {},
      "outputs": [],
      "source": []
    },
    {
      "cell_type": "code",
      "execution_count": null,
      "metadata": {},
      "outputs": [],
      "source": []
    },
    {
      "cell_type": "code",
      "execution_count": 7,
      "metadata": {},
      "outputs": [
        {
          "data": {
            "text/html": [
              "<div>\n",
              "<style scoped>\n",
              "    .dataframe tbody tr th:only-of-type {\n",
              "        vertical-align: middle;\n",
              "    }\n",
              "\n",
              "    .dataframe tbody tr th {\n",
              "        vertical-align: top;\n",
              "    }\n",
              "\n",
              "    .dataframe thead th {\n",
              "        text-align: right;\n",
              "    }\n",
              "</style>\n",
              "<table border=\"1\" class=\"dataframe\">\n",
              "  <thead>\n",
              "    <tr style=\"text-align: right;\">\n",
              "      <th></th>\n",
              "      <th>text</th>\n",
              "      <th>label_gold</th>\n",
              "    </tr>\n",
              "  </thead>\n",
              "  <tbody>\n",
              "    <tr>\n",
              "      <th>0</th>\n",
              "      <td>I would love to 👏🏽 some 👳🏾</td>\n",
              "      <td>0</td>\n",
              "    </tr>\n",
              "    <tr>\n",
              "      <th>1</th>\n",
              "      <td>all women are interested in is 💸💸💸 - incorrect</td>\n",
              "      <td>0</td>\n",
              "    </tr>\n",
              "    <tr>\n",
              "      <th>2</th>\n",
              "      <td>you cunts are 🅿️r🅾️ 👩‍❤️‍💋‍👩</td>\n",
              "      <td>1</td>\n",
              "    </tr>\n",
              "    <tr>\n",
              "      <th>3</th>\n",
              "      <td>🚯means no 💩</td>\n",
              "      <td>0</td>\n",
              "    </tr>\n",
              "    <tr>\n",
              "      <th>4</th>\n",
              "      <td>rah can u 😥not</td>\n",
              "      <td>0</td>\n",
              "    </tr>\n",
              "    <tr>\n",
              "      <th>...</th>\n",
              "      <td>...</td>\n",
              "      <td>...</td>\n",
              "    </tr>\n",
              "    <tr>\n",
              "      <th>588</th>\n",
              "      <td>we need way more 💂‍♂️👮 at the border to stop t...</td>\n",
              "      <td>1</td>\n",
              "    </tr>\n",
              "    <tr>\n",
              "      <th>589</th>\n",
              "      <td>we need👷‍♂️👷 to build houses for the immigrant...</td>\n",
              "      <td>1</td>\n",
              "    </tr>\n",
              "    <tr>\n",
              "      <th>590</th>\n",
              "      <td>you are hispanic? 🤨🤧</td>\n",
              "      <td>1</td>\n",
              "    </tr>\n",
              "    <tr>\n",
              "      <th>591</th>\n",
              "      <td>I speak to my family and tell them I hate gays...</td>\n",
              "      <td>0</td>\n",
              "    </tr>\n",
              "    <tr>\n",
              "      <th>592</th>\n",
              "      <td>just let the refugees in 😡😡😡</td>\n",
              "      <td>0</td>\n",
              "    </tr>\n",
              "  </tbody>\n",
              "</table>\n",
              "<p>593 rows × 2 columns</p>\n",
              "</div>"
            ],
            "text/plain": [
              "                                                  text  label_gold\n",
              "0                           I would love to 👏🏽 some 👳🏾           0\n",
              "1       all women are interested in is 💸💸💸 - incorrect           0\n",
              "2                         you cunts are 🅿️r🅾️ 👩‍❤️‍💋‍👩           1\n",
              "3                                          🚯means no 💩           0\n",
              "4                                       rah can u 😥not           0\n",
              "..                                                 ...         ...\n",
              "588  we need way more 💂‍♂️👮 at the border to stop t...           1\n",
              "589  we need👷‍♂️👷 to build houses for the immigrant...           1\n",
              "590                               you are hispanic? 🤨🤧           1\n",
              "591  I speak to my family and tell them I hate gays...           0\n",
              "592                       just let the refugees in 😡😡😡           0\n",
              "\n",
              "[593 rows x 2 columns]"
            ]
          },
          "execution_count": 7,
          "metadata": {},
          "output_type": "execute_result"
        }
      ],
      "source": [
        "df_test = df_test.drop(['entry_id', 'type', 'target', 'round.base', 'round.set', 'set', 'split', 'matched_text', 'matched_id'], axis=1)\n",
        "df_test"
      ]
    },
    {
      "cell_type": "code",
      "execution_count": 8,
      "metadata": {},
      "outputs": [
        {
          "data": {
            "text/html": [
              "<div>\n",
              "<style scoped>\n",
              "    .dataframe tbody tr th:only-of-type {\n",
              "        vertical-align: middle;\n",
              "    }\n",
              "\n",
              "    .dataframe tbody tr th {\n",
              "        vertical-align: top;\n",
              "    }\n",
              "\n",
              "    .dataframe thead th {\n",
              "        text-align: right;\n",
              "    }\n",
              "</style>\n",
              "<table border=\"1\" class=\"dataframe\">\n",
              "  <thead>\n",
              "    <tr style=\"text-align: right;\">\n",
              "      <th></th>\n",
              "      <th>text</th>\n",
              "      <th>label_gold</th>\n",
              "    </tr>\n",
              "  </thead>\n",
              "  <tbody>\n",
              "    <tr>\n",
              "      <th>0</th>\n",
              "      <td>🐀 make me 🤢</td>\n",
              "      <td>0</td>\n",
              "    </tr>\n",
              "    <tr>\n",
              "      <th>1</th>\n",
              "      <td>all women are interested in is 💸💸💸 - correct</td>\n",
              "      <td>1</td>\n",
              "    </tr>\n",
              "    <tr>\n",
              "      <th>2</th>\n",
              "      <td>my 🔌hates black people</td>\n",
              "      <td>0</td>\n",
              "    </tr>\n",
              "    <tr>\n",
              "      <th>3</th>\n",
              "      <td>you cunts are 🚮</td>\n",
              "      <td>0</td>\n",
              "    </tr>\n",
              "    <tr>\n",
              "      <th>4</th>\n",
              "      <td>😴shurrrp</td>\n",
              "      <td>0</td>\n",
              "    </tr>\n",
              "    <tr>\n",
              "      <th>...</th>\n",
              "      <td>...</td>\n",
              "      <td>...</td>\n",
              "    </tr>\n",
              "    <tr>\n",
              "      <th>586</th>\n",
              "      <td>cant believe every handman on checkatrade is 😡???</td>\n",
              "      <td>0</td>\n",
              "    </tr>\n",
              "    <tr>\n",
              "      <th>587</th>\n",
              "      <td>\"I was born with a penis but I have always bee...</td>\n",
              "      <td>0</td>\n",
              "    </tr>\n",
              "    <tr>\n",
              "      <th>588</th>\n",
              "      <td>my dad said I hate pakis 😧</td>\n",
              "      <td>0</td>\n",
              "    </tr>\n",
              "    <tr>\n",
              "      <th>589</th>\n",
              "      <td>my dad he hates maccies 🤣🤣🤣</td>\n",
              "      <td>0</td>\n",
              "    </tr>\n",
              "    <tr>\n",
              "      <th>590</th>\n",
              "      <td>I went to the shop and called it a Paki shop, ...</td>\n",
              "      <td>1</td>\n",
              "    </tr>\n",
              "  </tbody>\n",
              "</table>\n",
              "<p>591 rows × 2 columns</p>\n",
              "</div>"
            ],
            "text/plain": [
              "                                                  text  label_gold\n",
              "0                                          🐀 make me 🤢           0\n",
              "1         all women are interested in is 💸💸💸 - correct           1\n",
              "2                               my 🔌hates black people           0\n",
              "3                                      you cunts are 🚮           0\n",
              "4                                             😴shurrrp           0\n",
              "..                                                 ...         ...\n",
              "586  cant believe every handman on checkatrade is 😡???           0\n",
              "587  \"I was born with a penis but I have always bee...           0\n",
              "588                         my dad said I hate pakis 😧           0\n",
              "589                        my dad he hates maccies 🤣🤣🤣           0\n",
              "590  I went to the shop and called it a Paki shop, ...           1\n",
              "\n",
              "[591 rows x 2 columns]"
            ]
          },
          "execution_count": 8,
          "metadata": {},
          "output_type": "execute_result"
        }
      ],
      "source": [
        "df_validation = df_validation.drop(['entry_id', 'type', 'target', 'round.base', 'round.set', 'set', 'split', 'matched_text', 'matched_id'], axis=1)\n",
        "df_validation"
      ]
    },
    {
      "cell_type": "code",
      "execution_count": 9,
      "metadata": {
        "colab": {
          "base_uri": "https://localhost:8080/"
        },
        "id": "1THPjaStglsX",
        "outputId": "feda6277-20b9-43a4-f622-91919683c475"
      },
      "outputs": [
        {
          "name": "stdout",
          "output_type": "stream",
          "text": [
            "<class 'pandas.core.frame.DataFrame'>\n",
            "RangeIndex: 4757 entries, 0 to 4756\n",
            "Data columns (total 2 columns):\n",
            " #   Column      Non-Null Count  Dtype \n",
            "---  ------      --------------  ----- \n",
            " 0   text        4757 non-null   object\n",
            " 1   label_gold  4757 non-null   int64 \n",
            "dtypes: int64(1), object(1)\n",
            "memory usage: 74.5+ KB\n",
            "<class 'pandas.core.frame.DataFrame'>\n",
            "RangeIndex: 593 entries, 0 to 592\n",
            "Data columns (total 2 columns):\n",
            " #   Column      Non-Null Count  Dtype \n",
            "---  ------      --------------  ----- \n",
            " 0   text        593 non-null    object\n",
            " 1   label_gold  593 non-null    int64 \n",
            "dtypes: int64(1), object(1)\n",
            "memory usage: 9.4+ KB\n",
            "<class 'pandas.core.frame.DataFrame'>\n",
            "RangeIndex: 591 entries, 0 to 590\n",
            "Data columns (total 2 columns):\n",
            " #   Column      Non-Null Count  Dtype \n",
            "---  ------      --------------  ----- \n",
            " 0   text        591 non-null    object\n",
            " 1   label_gold  591 non-null    int64 \n",
            "dtypes: int64(1), object(1)\n",
            "memory usage: 9.4+ KB\n"
          ]
        }
      ],
      "source": [
        "#info dataset\n",
        "df.info()\n",
        "df_test.info()\n",
        "df_validation.info()"
      ]
    },
    {
      "cell_type": "code",
      "execution_count": 10,
      "metadata": {
        "colab": {
          "base_uri": "https://localhost:8080/"
        },
        "id": "zbkNJue_glsX",
        "outputId": "46b57815-d05c-49a6-d73b-9842bb698ca5"
      },
      "outputs": [
        {
          "data": {
            "text/plain": [
              "False"
            ]
          },
          "execution_count": 10,
          "metadata": {},
          "output_type": "execute_result"
        }
      ],
      "source": [
        "# Checking for null values\n",
        "df.isnull().values.any()\n",
        "df_test.isnull().values.any()\n",
        "df_validation.isnull().values.any()"
      ]
    },
    {
      "cell_type": "code",
      "execution_count": 11,
      "metadata": {
        "id": "ar_-lkUDnRAG"
      },
      "outputs": [],
      "source": [
        "All = df.shape[0]\n",
        "hatespeech = df[df['label_gold'] == 1]\n",
        "non_hate_speech = df[df['label_gold'] == 0]"
      ]
    },
    {
      "cell_type": "code",
      "execution_count": 12,
      "metadata": {
        "colab": {
          "base_uri": "https://localhost:8080/"
        },
        "id": "nTxkOh3WncCy",
        "outputId": "e3378e56-b095-4453-de00-2a9ed5dae47c"
      },
      "outputs": [
        {
          "name": "stdout",
          "output_type": "stream",
          "text": [
            "hatespeech : 50.32583561067901 %\n",
            "non hatespeech : 49.674164389321 %\n"
          ]
        }
      ],
      "source": [
        "totalhatespeech = len(hatespeech)/All\n",
        "totalnonhatespeech = len(non_hate_speech)/All\n",
        "print('hatespeech :', totalhatespeech * 100, '%')\n",
        "print('non hatespeech :', totalnonhatespeech * 100, '%')"
      ]
    },
    {
      "cell_type": "code",
      "execution_count": 13,
      "metadata": {
        "colab": {
          "base_uri": "https://localhost:8080/"
        },
        "id": "SQWO-eJIglsZ",
        "outputId": "3e23af33-0f2f-4150-fec4-c01e4a7df987"
      },
      "outputs": [
        {
          "data": {
            "text/plain": [
              "label_gold\n",
              "1    2394\n",
              "0    2363\n",
              "Name: count, dtype: int64"
            ]
          },
          "execution_count": 13,
          "metadata": {},
          "output_type": "execute_result"
        }
      ],
      "source": [
        "# Melihat jumlah masing-masing tipe\n",
        "df['label_gold'].value_counts()"
      ]
    },
    {
      "cell_type": "code",
      "execution_count": 14,
      "metadata": {
        "colab": {
          "base_uri": "https://localhost:8080/",
          "height": 508
        },
        "id": "Z1iYzrWPglsZ",
        "outputId": "fb64e4ae-a1d4-4140-8384-75d93f16e704"
      },
      "outputs": [
        {
          "name": "stderr",
          "output_type": "stream",
          "text": [
            "C:\\Users\\LENOVO\\AppData\\Local\\Temp\\ipykernel_24028\\86505274.py:2: FutureWarning: pandas.value_counts is deprecated and will be removed in a future version. Use pd.Series(obj).value_counts() instead.\n",
            "  classes = pd.value_counts(df['label_gold'], sort=True)\n"
          ]
        },
        {
          "data": {
            "image/png": "[encoded data removed]",
            "text/plain": [
              "<Figure size 640x480 with 1 Axes>"
            ]
          },
          "metadata": {},
          "output_type": "display_data"
        }
      ],
      "source": [
        "labels = ['hatespeech', 'non hatespeech']\n",
        "classes = pd.value_counts(df['label_gold'], sort=True)\n",
        "ax = classes.plot(kind='bar', rot=0)\n",
        "plt.title(\"Transaction label distribution\")\n",
        "plt.xticks(range(2), labels)\n",
        "plt.xlabel(\"Label\")\n",
        "plt.ylabel(\"Frequency\")\n",
        "\n",
        "# Menambahkan persentase pada setiap bar\n",
        "total_df = len(df)\n",
        "for i, v in enumerate(classes):\n",
        "    percentage = f\"{(v / total_df * 100):.2f}%\"\n",
        "    ax.text(i, v + 10, percentage, ha='center', va='bottom', fontsize=8)\n",
        "\n",
        "plt.show()"
      ]
    },
    {
      "cell_type": "code",
      "execution_count": 15,
      "metadata": {
        "colab": {
          "base_uri": "https://localhost:8080/",
          "height": 865
        },
        "id": "GqL4eLSXglsa",
        "outputId": "36d0dc5d-15d3-4d04-f030-73e7b2c08b92"
      },
      "outputs": [
        {
          "data": {
            "image/png": "[encoded data removed]",
            "text/plain": [
              "<Figure size 800x600 with 1 Axes>"
            ]
          },
          "metadata": {},
          "output_type": "display_data"
        },
        {
          "name": "stdout",
          "output_type": "stream",
          "text": [
            "Statistical description for non hatespeech:\n",
            "count    2363.000000\n",
            "mean        7.772747\n",
            "std         4.537499\n",
            "min         1.000000\n",
            "25%         5.000000\n",
            "50%         7.000000\n",
            "75%        10.000000\n",
            "max        51.000000\n",
            "Name: Length, dtype: float64\n",
            "\n",
            "Counts for each label type:\n",
            "label_gold\n",
            "1    2394\n",
            "0    2363\n",
            "Name: count, dtype: int64\n"
          ]
        }
      ],
      "source": [
        "import pandas as pd\n",
        "import matplotlib.pyplot as plt\n",
        "import seaborn as sns\n",
        "\n",
        "# Membuat kolom 'Length' untuk menyimpan panjang kata dalam setiap komentar\n",
        "df[\"Length\"] = df['text'].str.split().apply(lambda x: len(x) if isinstance(x, list) else None)\n",
        "\n",
        "# Memvisualisasikan histogram panjang komentar untuk non hatespeech\n",
        "plt.figure(figsize=(8, 6))\n",
        "sns.histplot(df[df['label_gold'] == 0]['Length'].dropna(), color=\"g\", bins=30)\n",
        "plt.title(\"Distribution of comment length for non hatespeech\")\n",
        "plt.xlabel(\"Length of tweet\")\n",
        "plt.ylabel(\"Frequency\")\n",
        "plt.show()\n",
        "\n",
        "# Melihat statistik deskriptif untuk panjang komentar non hatespeech\n",
        "non_hate_stats = df[df['label_gold'] == 0]['Length'].describe()\n",
        "print(\"Statistical description for non hatespeech:\")\n",
        "print(non_hate_stats)\n",
        "\n",
        "# Melihat jumlah masing-masing tipe label\n",
        "label_counts = df['label_gold'].value_counts()\n",
        "print(\"\\nCounts for each label type:\")\n",
        "print(label_counts)\n"
      ]
    },
    {
      "cell_type": "code",
      "execution_count": 16,
      "metadata": {
        "colab": {
          "base_uri": "https://localhost:8080/",
          "height": 865
        },
        "id": "RuaXqc2jglsb",
        "outputId": "04bdd010-9da5-4414-d33b-ff6f987005e1"
      },
      "outputs": [
        {
          "data": {
            "image/png": "[encoded data removed]",
            "text/plain": [
              "<Figure size 800x600 with 1 Axes>"
            ]
          },
          "metadata": {},
          "output_type": "display_data"
        },
        {
          "name": "stdout",
          "output_type": "stream",
          "text": [
            "Statistical description for non hatespeech:\n",
            "count    2394.000000\n",
            "mean        8.082707\n",
            "std         4.728731\n",
            "min         1.000000\n",
            "25%         5.000000\n",
            "50%         7.000000\n",
            "75%        10.000000\n",
            "max        51.000000\n",
            "Name: Length, dtype: float64\n",
            "\n",
            "Counts for each label type:\n",
            "label_gold\n",
            "1    2394\n",
            "0    2363\n",
            "Name: count, dtype: int64\n"
          ]
        }
      ],
      "source": [
        "import pandas as pd\n",
        "import matplotlib.pyplot as plt\n",
        "import seaborn as sns\n",
        "\n",
        "# Membuat kolom 'Length' untuk menyimpan panjang kata dalam setiap komentar\n",
        "df[\"Length\"] = df['text'].str.split().apply(lambda x: len(x) if isinstance(x, list) else None)\n",
        "\n",
        "# Memvisualisasikan histogram panjang komentar untuk non hatespeech\n",
        "plt.figure(figsize=(8, 6))\n",
        "sns.histplot(df[df['label_gold'] == 1]['Length'].dropna(), color=\"g\", bins=30)\n",
        "plt.title(\"Distribution of comment length for hatespeech\")\n",
        "plt.xlabel(\"Length of tweet\")\n",
        "plt.ylabel(\"Frequency\")\n",
        "plt.show()\n",
        "\n",
        "# Melihat statistik deskriptif untuk panjang komentar non hatespeech\n",
        "non_hate_stats = df[df['label_gold'] == 1]['Length'].describe()\n",
        "print(\"Statistical description for non hatespeech:\")\n",
        "print(non_hate_stats)\n",
        "\n",
        "# Melihat jumlah masing-masing tipe label\n",
        "label_counts = df['label_gold'].value_counts()\n",
        "print(\"\\nCounts for each label type:\")\n",
        "print(label_counts)\n"
      ]
    },
    {
      "cell_type": "code",
      "execution_count": 17,
      "metadata": {
        "colab": {
          "base_uri": "https://localhost:8080/"
        },
        "id": "QhhtfJrMglsb",
        "outputId": "09d4d062-6db4-43b7-8acb-bc6759ed2e85"
      },
      "outputs": [
        {
          "name": "stdout",
          "output_type": "stream",
          "text": [
            "0                  I would love to 🔪 some 👳🏾\n",
            "1                  I would love to 🔪 some 👨🏿\n",
            "2                     I would love to 🔪some🦊\n",
            "3                               👳🏽 make me 🤢\n",
            "4    literally all 👨🏿 men act like gentlemen\n",
            "Name: text, dtype: object\n"
          ]
        }
      ],
      "source": [
        "# variabel untuk kolom Tweet\n",
        "text = df.text\n",
        "print(text.head())"
      ]
    },
    {
      "cell_type": "markdown",
      "metadata": {},
      "source": [
        "---"
      ]
    }
  ],
  "metadata": {
    "colab": {
      "provenance": []
    },
    "kernelspec": {
      "display_name": "Python 3",
      "language": "python",
      "name": "python3"
    },
    "language_info": {
      "codemirror_mode": {
        "name": "ipython",
        "version": 3
      },
      "file_extension": ".py",
      "mimetype": "text/x-python",
      "name": "python",
      "nbconvert_exporter": "python",
      "pygments_lexer": "ipython3",
      "version": "3.11.8"
    }
  },
  "nbformat": 4,
  "nbformat_minor": 0
}
